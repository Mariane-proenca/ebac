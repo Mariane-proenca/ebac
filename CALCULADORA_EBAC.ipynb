{
  "nbformat": 4,
  "nbformat_minor": 0,
  "metadata": {
    "colab": {
      "provenance": []
    },
    "kernelspec": {
      "name": "python3",
      "display_name": "Python 3"
    },
    "language_info": {
      "name": "python"
    }
  },
  "cells": [
    {
      "cell_type": "code",
      "execution_count": null,
      "metadata": {
        "colab": {
          "base_uri": "https://localhost:8080/"
        },
        "id": "U_AHaznLEiuU",
        "outputId": "6a62fb30-3976-4be1-ab5d-a71272c4e028"
      },
      "outputs": [
        {
          "name": "stdout",
          "output_type": "stream",
          "text": [
            "Digite o primeiro número: 11\n",
            "Digite o segundo número: 12\n",
            "\n",
            "BEM VINDO A CALCULADORA\n",
            "\n",
            "Escolha uma operação matemática:\n",
            "1. Adição\n",
            "2. Subtração\n",
            "3. Multiplicação\n",
            "4. Divisão\n",
            "5. Sair\n",
            "Digite o número da operação desejada: 1\n",
            "Resultado da adição: 23.0\n",
            "Deseja realizar outra operação com os mesmos números? (s/n): S\n",
            "\n",
            "BEM VINDO A CALCULADORA\n",
            "\n",
            "Escolha uma operação matemática:\n",
            "1. Adição\n",
            "2. Subtração\n",
            "3. Multiplicação\n",
            "4. Divisão\n",
            "5. Sair\n",
            "Digite o número da operação desejada: 5\n",
            "Saindo do programa. Até mais!\n",
            "Deseja realizar outra operação com os mesmos números? (s/n): N\n"
          ]
        }
      ],
      "source": [
        "def menu():\n",
        "    print(\"\\nBEM VINDO A CALCULADORA\")\n",
        "    print(\"\\nEscolha uma operação matemática:\")\n",
        "    print(\"1. Adição\")\n",
        "    print(\"2. Subtração\")\n",
        "    print(\"3. Multiplicação\")\n",
        "    print(\"4. Divisão\")\n",
        "    print(\"5. Sair\")\n",
        "\n",
        "while True:\n",
        "    try:\n",
        "        # Receber os números do usuário\n",
        "        num1 = float(input(\"Digite o primeiro número: \"))\n",
        "        num2 = float(input(\"Digite o segundo número: \"))\n",
        "\n",
        "        while True:\n",
        "            # Exibir menu de operações\n",
        "            menu()\n",
        "            escolha = input(\"Digite o número da operação desejada: \")\n",
        "\n",
        "            if escolha == '1':\n",
        "                resultado = num1 + num2\n",
        "                print(f\"Resultado da adição: {resultado}\")\n",
        "            elif escolha == '2':\n",
        "                resultado = num1 - num2\n",
        "                print(f\"Resultado da subtração: {resultado}\")\n",
        "            elif escolha == '3':\n",
        "                resultado = num1 * num2\n",
        "                print(f\"Resultado da multiplicação: {resultado}\")\n",
        "            elif escolha == '4':\n",
        "                if num2 != 0:\n",
        "                    resultado = num1 / num2\n",
        "                    print(f\"Resultado da divisão: {resultado}\")\n",
        "                else:\n",
        "                    print(\"Erro: Divisão por zero não é permitida.\")\n",
        "            elif escolha == '5':\n",
        "                print(\"Saindo do programa. Até mais!\")\n",
        "                exit()\n",
        "            else:\n",
        "                print(\"Opção inválida. Tente novamente.\")\n",
        "\n",
        "            # Perguntar ao usuário se deseja realizar outra operação\n",
        "            repetir = input(\"Deseja realizar outra operação com os mesmos números? (s/n): \").lower()\n",
        "            if repetir != 's':\n",
        "                break\n",
        "\n",
        "    except ValueError:\n",
        "        print(\"Erro: Por favor, insira valores numéricos válidos.\")\n"
      ]
    }
  ]
}